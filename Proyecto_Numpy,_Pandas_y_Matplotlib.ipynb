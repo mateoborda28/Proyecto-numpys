{
  "nbformat": 4,
  "nbformat_minor": 0,
  "metadata": {
    "colab": {
      "provenance": []
    },
    "kernelspec": {
      "name": "python3",
      "display_name": "Python 3"
    },
    "language_info": {
      "name": "python"
    }
  },
  "cells": [
    {
      "cell_type": "markdown",
      "source": [
        "#**Proyecto Análisis exploratorio Amsterdam Airbnb  a traves de Numpy, Pandas y Matplotlib**\n",
        "##Mateo Borda"
      ],
      "metadata": {
        "id": "2q7YKo8pVlD1"
      }
    },
    {
      "cell_type": "code",
      "execution_count": 55,
      "metadata": {
        "id": "2wQDzJNuVEeh"
      },
      "outputs": [],
      "source": [
        "import numpy as np\n",
        "import pandas as pd\n",
        "import matplotlib.pyplot as plt\n",
        "import matplotlib.gridspec as gridspec"
      ]
    },
    {
      "cell_type": "code",
      "source": [
        "from google.colab import drive\n",
        "drive.mount('/content/drive')"
      ],
      "metadata": {
        "colab": {
          "base_uri": "https://localhost:8080/"
        },
        "id": "irxsDWTVVXT4",
        "outputId": "33b71d34-ba14-469c-a741-f1291868221a"
      },
      "execution_count": 28,
      "outputs": [
        {
          "output_type": "stream",
          "name": "stdout",
          "text": [
            "Drive already mounted at /content/drive; to attempt to forcibly remount, call drive.mount(\"/content/drive\", force_remount=True).\n"
          ]
        }
      ]
    },
    {
      "cell_type": "code",
      "source": [
        "path = '/content/drive/MyDrive/Bases de datos/amsterdam_weekends.csv'\n",
        "df = pd.read_csv(path)\n",
        "df['Indice'] = df['Unnamed: 0']\n",
        "df = df.drop(columns=['Unnamed: 0'])\n",
        "df.head()"
      ],
      "metadata": {
        "colab": {
          "base_uri": "https://localhost:8080/",
          "height": 313
        },
        "id": "9shQNHg1WwCU",
        "outputId": "a171cfdf-dc99-40c5-fe4c-2f9019fc7c2b"
      },
      "execution_count": 29,
      "outputs": [
        {
          "output_type": "execute_result",
          "data": {
            "text/plain": [
              "       realSum        room_type  room_shared  room_private  person_capacity  \\\n",
              "0   319.640053     Private room        False          True              2.0   \n",
              "1   347.995219     Private room        False          True              2.0   \n",
              "2   482.975183     Private room        False          True              4.0   \n",
              "3   485.552926     Private room        False          True              2.0   \n",
              "4  2771.541724  Entire home/apt        False         False              4.0   \n",
              "\n",
              "   host_is_superhost  multi  biz  cleanliness_rating  \\\n",
              "0              False      0    1                 9.0   \n",
              "1              False      0    1                 9.0   \n",
              "2              False      0    1                 9.0   \n",
              "3               True      0    0                10.0   \n",
              "4               True      0    0                10.0   \n",
              "\n",
              "   guest_satisfaction_overall  bedrooms      dist  metro_dist  attr_index  \\\n",
              "0                        88.0         1  4.763360    0.852117  110.906123   \n",
              "1                        87.0         1  5.748310    3.651591   75.275937   \n",
              "2                        90.0         2  0.384872    0.439852  493.272517   \n",
              "3                        98.0         1  0.544723    0.318688  552.849514   \n",
              "4                       100.0         3  1.686798    1.458399  208.809162   \n",
              "\n",
              "   attr_index_norm  rest_index  rest_index_norm      lng       lat  Indice  \n",
              "0         5.871971  136.982208        11.941560  4.84639  52.34137       0  \n",
              "1         3.985516   95.386468         8.315410  4.97512  52.36103       1  \n",
              "2        26.116521  875.114817        76.289005  4.89417  52.37663       2  \n",
              "3        29.270850  815.303994        71.074937  4.90051  52.37508       3  \n",
              "4        11.055489  272.315202        23.739349  4.88467  52.38749       4  "
            ],
            "text/html": [
              "\n",
              "  <div id=\"df-e3e30612-d60e-49ad-83c4-00201c6160d4\" class=\"colab-df-container\">\n",
              "    <div>\n",
              "<style scoped>\n",
              "    .dataframe tbody tr th:only-of-type {\n",
              "        vertical-align: middle;\n",
              "    }\n",
              "\n",
              "    .dataframe tbody tr th {\n",
              "        vertical-align: top;\n",
              "    }\n",
              "\n",
              "    .dataframe thead th {\n",
              "        text-align: right;\n",
              "    }\n",
              "</style>\n",
              "<table border=\"1\" class=\"dataframe\">\n",
              "  <thead>\n",
              "    <tr style=\"text-align: right;\">\n",
              "      <th></th>\n",
              "      <th>realSum</th>\n",
              "      <th>room_type</th>\n",
              "      <th>room_shared</th>\n",
              "      <th>room_private</th>\n",
              "      <th>person_capacity</th>\n",
              "      <th>host_is_superhost</th>\n",
              "      <th>multi</th>\n",
              "      <th>biz</th>\n",
              "      <th>cleanliness_rating</th>\n",
              "      <th>guest_satisfaction_overall</th>\n",
              "      <th>bedrooms</th>\n",
              "      <th>dist</th>\n",
              "      <th>metro_dist</th>\n",
              "      <th>attr_index</th>\n",
              "      <th>attr_index_norm</th>\n",
              "      <th>rest_index</th>\n",
              "      <th>rest_index_norm</th>\n",
              "      <th>lng</th>\n",
              "      <th>lat</th>\n",
              "      <th>Indice</th>\n",
              "    </tr>\n",
              "  </thead>\n",
              "  <tbody>\n",
              "    <tr>\n",
              "      <th>0</th>\n",
              "      <td>319.640053</td>\n",
              "      <td>Private room</td>\n",
              "      <td>False</td>\n",
              "      <td>True</td>\n",
              "      <td>2.0</td>\n",
              "      <td>False</td>\n",
              "      <td>0</td>\n",
              "      <td>1</td>\n",
              "      <td>9.0</td>\n",
              "      <td>88.0</td>\n",
              "      <td>1</td>\n",
              "      <td>4.763360</td>\n",
              "      <td>0.852117</td>\n",
              "      <td>110.906123</td>\n",
              "      <td>5.871971</td>\n",
              "      <td>136.982208</td>\n",
              "      <td>11.941560</td>\n",
              "      <td>4.84639</td>\n",
              "      <td>52.34137</td>\n",
              "      <td>0</td>\n",
              "    </tr>\n",
              "    <tr>\n",
              "      <th>1</th>\n",
              "      <td>347.995219</td>\n",
              "      <td>Private room</td>\n",
              "      <td>False</td>\n",
              "      <td>True</td>\n",
              "      <td>2.0</td>\n",
              "      <td>False</td>\n",
              "      <td>0</td>\n",
              "      <td>1</td>\n",
              "      <td>9.0</td>\n",
              "      <td>87.0</td>\n",
              "      <td>1</td>\n",
              "      <td>5.748310</td>\n",
              "      <td>3.651591</td>\n",
              "      <td>75.275937</td>\n",
              "      <td>3.985516</td>\n",
              "      <td>95.386468</td>\n",
              "      <td>8.315410</td>\n",
              "      <td>4.97512</td>\n",
              "      <td>52.36103</td>\n",
              "      <td>1</td>\n",
              "    </tr>\n",
              "    <tr>\n",
              "      <th>2</th>\n",
              "      <td>482.975183</td>\n",
              "      <td>Private room</td>\n",
              "      <td>False</td>\n",
              "      <td>True</td>\n",
              "      <td>4.0</td>\n",
              "      <td>False</td>\n",
              "      <td>0</td>\n",
              "      <td>1</td>\n",
              "      <td>9.0</td>\n",
              "      <td>90.0</td>\n",
              "      <td>2</td>\n",
              "      <td>0.384872</td>\n",
              "      <td>0.439852</td>\n",
              "      <td>493.272517</td>\n",
              "      <td>26.116521</td>\n",
              "      <td>875.114817</td>\n",
              "      <td>76.289005</td>\n",
              "      <td>4.89417</td>\n",
              "      <td>52.37663</td>\n",
              "      <td>2</td>\n",
              "    </tr>\n",
              "    <tr>\n",
              "      <th>3</th>\n",
              "      <td>485.552926</td>\n",
              "      <td>Private room</td>\n",
              "      <td>False</td>\n",
              "      <td>True</td>\n",
              "      <td>2.0</td>\n",
              "      <td>True</td>\n",
              "      <td>0</td>\n",
              "      <td>0</td>\n",
              "      <td>10.0</td>\n",
              "      <td>98.0</td>\n",
              "      <td>1</td>\n",
              "      <td>0.544723</td>\n",
              "      <td>0.318688</td>\n",
              "      <td>552.849514</td>\n",
              "      <td>29.270850</td>\n",
              "      <td>815.303994</td>\n",
              "      <td>71.074937</td>\n",
              "      <td>4.90051</td>\n",
              "      <td>52.37508</td>\n",
              "      <td>3</td>\n",
              "    </tr>\n",
              "    <tr>\n",
              "      <th>4</th>\n",
              "      <td>2771.541724</td>\n",
              "      <td>Entire home/apt</td>\n",
              "      <td>False</td>\n",
              "      <td>False</td>\n",
              "      <td>4.0</td>\n",
              "      <td>True</td>\n",
              "      <td>0</td>\n",
              "      <td>0</td>\n",
              "      <td>10.0</td>\n",
              "      <td>100.0</td>\n",
              "      <td>3</td>\n",
              "      <td>1.686798</td>\n",
              "      <td>1.458399</td>\n",
              "      <td>208.809162</td>\n",
              "      <td>11.055489</td>\n",
              "      <td>272.315202</td>\n",
              "      <td>23.739349</td>\n",
              "      <td>4.88467</td>\n",
              "      <td>52.38749</td>\n",
              "      <td>4</td>\n",
              "    </tr>\n",
              "  </tbody>\n",
              "</table>\n",
              "</div>\n",
              "    <div class=\"colab-df-buttons\">\n",
              "\n",
              "  <div class=\"colab-df-container\">\n",
              "    <button class=\"colab-df-convert\" onclick=\"convertToInteractive('df-e3e30612-d60e-49ad-83c4-00201c6160d4')\"\n",
              "            title=\"Convert this dataframe to an interactive table.\"\n",
              "            style=\"display:none;\">\n",
              "\n",
              "  <svg xmlns=\"http://www.w3.org/2000/svg\" height=\"24px\" viewBox=\"0 -960 960 960\">\n",
              "    <path d=\"M120-120v-720h720v720H120Zm60-500h600v-160H180v160Zm220 220h160v-160H400v160Zm0 220h160v-160H400v160ZM180-400h160v-160H180v160Zm440 0h160v-160H620v160ZM180-180h160v-160H180v160Zm440 0h160v-160H620v160Z\"/>\n",
              "  </svg>\n",
              "    </button>\n",
              "\n",
              "  <style>\n",
              "    .colab-df-container {\n",
              "      display:flex;\n",
              "      gap: 12px;\n",
              "    }\n",
              "\n",
              "    .colab-df-convert {\n",
              "      background-color: #E8F0FE;\n",
              "      border: none;\n",
              "      border-radius: 50%;\n",
              "      cursor: pointer;\n",
              "      display: none;\n",
              "      fill: #1967D2;\n",
              "      height: 32px;\n",
              "      padding: 0 0 0 0;\n",
              "      width: 32px;\n",
              "    }\n",
              "\n",
              "    .colab-df-convert:hover {\n",
              "      background-color: #E2EBFA;\n",
              "      box-shadow: 0px 1px 2px rgba(60, 64, 67, 0.3), 0px 1px 3px 1px rgba(60, 64, 67, 0.15);\n",
              "      fill: #174EA6;\n",
              "    }\n",
              "\n",
              "    .colab-df-buttons div {\n",
              "      margin-bottom: 4px;\n",
              "    }\n",
              "\n",
              "    [theme=dark] .colab-df-convert {\n",
              "      background-color: #3B4455;\n",
              "      fill: #D2E3FC;\n",
              "    }\n",
              "\n",
              "    [theme=dark] .colab-df-convert:hover {\n",
              "      background-color: #434B5C;\n",
              "      box-shadow: 0px 1px 3px 1px rgba(0, 0, 0, 0.15);\n",
              "      filter: drop-shadow(0px 1px 2px rgba(0, 0, 0, 0.3));\n",
              "      fill: #FFFFFF;\n",
              "    }\n",
              "  </style>\n",
              "\n",
              "    <script>\n",
              "      const buttonEl =\n",
              "        document.querySelector('#df-e3e30612-d60e-49ad-83c4-00201c6160d4 button.colab-df-convert');\n",
              "      buttonEl.style.display =\n",
              "        google.colab.kernel.accessAllowed ? 'block' : 'none';\n",
              "\n",
              "      async function convertToInteractive(key) {\n",
              "        const element = document.querySelector('#df-e3e30612-d60e-49ad-83c4-00201c6160d4');\n",
              "        const dataTable =\n",
              "          await google.colab.kernel.invokeFunction('convertToInteractive',\n",
              "                                                    [key], {});\n",
              "        if (!dataTable) return;\n",
              "\n",
              "        const docLinkHtml = 'Like what you see? Visit the ' +\n",
              "          '<a target=\"_blank\" href=https://colab.research.google.com/notebooks/data_table.ipynb>data table notebook</a>'\n",
              "          + ' to learn more about interactive tables.';\n",
              "        element.innerHTML = '';\n",
              "        dataTable['output_type'] = 'display_data';\n",
              "        await google.colab.output.renderOutput(dataTable, element);\n",
              "        const docLink = document.createElement('div');\n",
              "        docLink.innerHTML = docLinkHtml;\n",
              "        element.appendChild(docLink);\n",
              "      }\n",
              "    </script>\n",
              "  </div>\n",
              "\n",
              "\n",
              "<div id=\"df-3c06813e-a545-4dd1-9ffd-1bf473425424\">\n",
              "  <button class=\"colab-df-quickchart\" onclick=\"quickchart('df-3c06813e-a545-4dd1-9ffd-1bf473425424')\"\n",
              "            title=\"Suggest charts\"\n",
              "            style=\"display:none;\">\n",
              "\n",
              "<svg xmlns=\"http://www.w3.org/2000/svg\" height=\"24px\"viewBox=\"0 0 24 24\"\n",
              "     width=\"24px\">\n",
              "    <g>\n",
              "        <path d=\"M19 3H5c-1.1 0-2 .9-2 2v14c0 1.1.9 2 2 2h14c1.1 0 2-.9 2-2V5c0-1.1-.9-2-2-2zM9 17H7v-7h2v7zm4 0h-2V7h2v10zm4 0h-2v-4h2v4z\"/>\n",
              "    </g>\n",
              "</svg>\n",
              "  </button>\n",
              "\n",
              "<style>\n",
              "  .colab-df-quickchart {\n",
              "      --bg-color: #E8F0FE;\n",
              "      --fill-color: #1967D2;\n",
              "      --hover-bg-color: #E2EBFA;\n",
              "      --hover-fill-color: #174EA6;\n",
              "      --disabled-fill-color: #AAA;\n",
              "      --disabled-bg-color: #DDD;\n",
              "  }\n",
              "\n",
              "  [theme=dark] .colab-df-quickchart {\n",
              "      --bg-color: #3B4455;\n",
              "      --fill-color: #D2E3FC;\n",
              "      --hover-bg-color: #434B5C;\n",
              "      --hover-fill-color: #FFFFFF;\n",
              "      --disabled-bg-color: #3B4455;\n",
              "      --disabled-fill-color: #666;\n",
              "  }\n",
              "\n",
              "  .colab-df-quickchart {\n",
              "    background-color: var(--bg-color);\n",
              "    border: none;\n",
              "    border-radius: 50%;\n",
              "    cursor: pointer;\n",
              "    display: none;\n",
              "    fill: var(--fill-color);\n",
              "    height: 32px;\n",
              "    padding: 0;\n",
              "    width: 32px;\n",
              "  }\n",
              "\n",
              "  .colab-df-quickchart:hover {\n",
              "    background-color: var(--hover-bg-color);\n",
              "    box-shadow: 0 1px 2px rgba(60, 64, 67, 0.3), 0 1px 3px 1px rgba(60, 64, 67, 0.15);\n",
              "    fill: var(--button-hover-fill-color);\n",
              "  }\n",
              "\n",
              "  .colab-df-quickchart-complete:disabled,\n",
              "  .colab-df-quickchart-complete:disabled:hover {\n",
              "    background-color: var(--disabled-bg-color);\n",
              "    fill: var(--disabled-fill-color);\n",
              "    box-shadow: none;\n",
              "  }\n",
              "\n",
              "  .colab-df-spinner {\n",
              "    border: 2px solid var(--fill-color);\n",
              "    border-color: transparent;\n",
              "    border-bottom-color: var(--fill-color);\n",
              "    animation:\n",
              "      spin 1s steps(1) infinite;\n",
              "  }\n",
              "\n",
              "  @keyframes spin {\n",
              "    0% {\n",
              "      border-color: transparent;\n",
              "      border-bottom-color: var(--fill-color);\n",
              "      border-left-color: var(--fill-color);\n",
              "    }\n",
              "    20% {\n",
              "      border-color: transparent;\n",
              "      border-left-color: var(--fill-color);\n",
              "      border-top-color: var(--fill-color);\n",
              "    }\n",
              "    30% {\n",
              "      border-color: transparent;\n",
              "      border-left-color: var(--fill-color);\n",
              "      border-top-color: var(--fill-color);\n",
              "      border-right-color: var(--fill-color);\n",
              "    }\n",
              "    40% {\n",
              "      border-color: transparent;\n",
              "      border-right-color: var(--fill-color);\n",
              "      border-top-color: var(--fill-color);\n",
              "    }\n",
              "    60% {\n",
              "      border-color: transparent;\n",
              "      border-right-color: var(--fill-color);\n",
              "    }\n",
              "    80% {\n",
              "      border-color: transparent;\n",
              "      border-right-color: var(--fill-color);\n",
              "      border-bottom-color: var(--fill-color);\n",
              "    }\n",
              "    90% {\n",
              "      border-color: transparent;\n",
              "      border-bottom-color: var(--fill-color);\n",
              "    }\n",
              "  }\n",
              "</style>\n",
              "\n",
              "  <script>\n",
              "    async function quickchart(key) {\n",
              "      const quickchartButtonEl =\n",
              "        document.querySelector('#' + key + ' button');\n",
              "      quickchartButtonEl.disabled = true;  // To prevent multiple clicks.\n",
              "      quickchartButtonEl.classList.add('colab-df-spinner');\n",
              "      try {\n",
              "        const charts = await google.colab.kernel.invokeFunction(\n",
              "            'suggestCharts', [key], {});\n",
              "      } catch (error) {\n",
              "        console.error('Error during call to suggestCharts:', error);\n",
              "      }\n",
              "      quickchartButtonEl.classList.remove('colab-df-spinner');\n",
              "      quickchartButtonEl.classList.add('colab-df-quickchart-complete');\n",
              "    }\n",
              "    (() => {\n",
              "      let quickchartButtonEl =\n",
              "        document.querySelector('#df-3c06813e-a545-4dd1-9ffd-1bf473425424 button');\n",
              "      quickchartButtonEl.style.display =\n",
              "        google.colab.kernel.accessAllowed ? 'block' : 'none';\n",
              "    })();\n",
              "  </script>\n",
              "</div>\n",
              "\n",
              "    </div>\n",
              "  </div>\n"
            ],
            "application/vnd.google.colaboratory.intrinsic+json": {
              "type": "dataframe",
              "variable_name": "df",
              "summary": "{\n  \"name\": \"df\",\n  \"rows\": 977,\n  \"fields\": [\n    {\n      \"column\": \"realSum\",\n      \"properties\": {\n        \"dtype\": \"number\",\n        \"std\": 443.6828206346749,\n        \"min\": 165.9128723080168,\n        \"max\": 8130.66810395332,\n        \"num_unique_values\": 517,\n        \"samples\": [\n          208.7971316757669,\n          377.2877463501512,\n          256.36819534600335\n        ],\n        \"semantic_type\": \"\",\n        \"description\": \"\"\n      }\n    },\n    {\n      \"column\": \"room_type\",\n      \"properties\": {\n        \"dtype\": \"category\",\n        \"num_unique_values\": 3,\n        \"samples\": [\n          \"Private room\",\n          \"Entire home/apt\",\n          \"Shared room\"\n        ],\n        \"semantic_type\": \"\",\n        \"description\": \"\"\n      }\n    },\n    {\n      \"column\": \"room_shared\",\n      \"properties\": {\n        \"dtype\": \"boolean\",\n        \"num_unique_values\": 2,\n        \"samples\": [\n          true,\n          false\n        ],\n        \"semantic_type\": \"\",\n        \"description\": \"\"\n      }\n    },\n    {\n      \"column\": \"room_private\",\n      \"properties\": {\n        \"dtype\": \"boolean\",\n        \"num_unique_values\": 2,\n        \"samples\": [\n          false,\n          true\n        ],\n        \"semantic_type\": \"\",\n        \"description\": \"\"\n      }\n    },\n    {\n      \"column\": \"person_capacity\",\n      \"properties\": {\n        \"dtype\": \"number\",\n        \"std\": 1.0198758432152135,\n        \"min\": 2.0,\n        \"max\": 6.0,\n        \"num_unique_values\": 5,\n        \"samples\": [\n          4.0,\n          5.0\n        ],\n        \"semantic_type\": \"\",\n        \"description\": \"\"\n      }\n    },\n    {\n      \"column\": \"host_is_superhost\",\n      \"properties\": {\n        \"dtype\": \"boolean\",\n        \"num_unique_values\": 2,\n        \"samples\": [\n          true,\n          false\n        ],\n        \"semantic_type\": \"\",\n        \"description\": \"\"\n      }\n    },\n    {\n      \"column\": \"multi\",\n      \"properties\": {\n        \"dtype\": \"number\",\n        \"std\": 0,\n        \"min\": 0,\n        \"max\": 1,\n        \"num_unique_values\": 2,\n        \"samples\": [\n          1,\n          0\n        ],\n        \"semantic_type\": \"\",\n        \"description\": \"\"\n      }\n    },\n    {\n      \"column\": \"biz\",\n      \"properties\": {\n        \"dtype\": \"number\",\n        \"std\": 0,\n        \"min\": 0,\n        \"max\": 1,\n        \"num_unique_values\": 2,\n        \"samples\": [\n          0,\n          1\n        ],\n        \"semantic_type\": \"\",\n        \"description\": \"\"\n      }\n    },\n    {\n      \"column\": \"cleanliness_rating\",\n      \"properties\": {\n        \"dtype\": \"number\",\n        \"std\": 0.8306492056967524,\n        \"min\": 2.0,\n        \"max\": 10.0,\n        \"num_unique_values\": 8,\n        \"samples\": [\n          10.0,\n          5.0\n        ],\n        \"semantic_type\": \"\",\n        \"description\": \"\"\n      }\n    },\n    {\n      \"column\": \"guest_satisfaction_overall\",\n      \"properties\": {\n        \"dtype\": \"number\",\n        \"std\": 6.632363850656536,\n        \"min\": 20.0,\n        \"max\": 100.0,\n        \"num_unique_values\": 30,\n        \"samples\": [\n          47.0,\n          92.0\n        ],\n        \"semantic_type\": \"\",\n        \"description\": \"\"\n      }\n    },\n    {\n      \"column\": \"bedrooms\",\n      \"properties\": {\n        \"dtype\": \"number\",\n        \"std\": 0,\n        \"min\": 0,\n        \"max\": 5,\n        \"num_unique_values\": 6,\n        \"samples\": [\n          1,\n          2\n        ],\n        \"semantic_type\": \"\",\n        \"description\": \"\"\n      }\n    },\n    {\n      \"column\": \"dist\",\n      \"properties\": {\n        \"dtype\": \"number\",\n        \"std\": 2.0366020699542116,\n        \"min\": 0.0150445207049455,\n        \"max\": 11.195932215962545,\n        \"num_unique_values\": 977,\n        \"samples\": [\n          1.2822318366972356,\n          1.768914531857051\n        ],\n        \"semantic_type\": \"\",\n        \"description\": \"\"\n      }\n    },\n    {\n      \"column\": \"metro_dist\",\n      \"properties\": {\n        \"dtype\": \"number\",\n        \"std\": 0.8265550912961944,\n        \"min\": 0.0365174105466487,\n        \"max\": 4.411905042328248,\n        \"num_unique_values\": 977,\n        \"samples\": [\n          1.1975655669096446,\n          1.5851790823001284\n        ],\n        \"semantic_type\": \"\",\n        \"description\": \"\"\n      }\n    },\n    {\n      \"column\": \"attr_index\",\n      \"properties\": {\n        \"dtype\": \"number\",\n        \"std\": 193.15676690162832,\n        \"min\": 40.890059945232274,\n        \"max\": 1888.7374554349308,\n        \"num_unique_values\": 977,\n        \"samples\": [\n          350.0874671344182,\n          202.0001805777609\n        ],\n        \"semantic_type\": \"\",\n        \"description\": \"\"\n      }\n    },\n    {\n      \"column\": \"attr_index_norm\",\n      \"properties\": {\n        \"dtype\": \"number\",\n        \"std\": 10.226766369556048,\n        \"min\": 2.164941444220805,\n        \"max\": 100.0,\n        \"num_unique_values\": 977,\n        \"samples\": [\n          18.5355283831019,\n          10.694984630949945\n        ],\n        \"semantic_type\": \"\",\n        \"description\": \"\"\n      }\n    },\n    {\n      \"column\": \"rest_index\",\n      \"properties\": {\n        \"dtype\": \"number\",\n        \"std\": 214.38488464811292,\n        \"min\": 50.82399114176355,\n        \"max\": 1147.104769300997,\n        \"num_unique_values\": 977,\n        \"samples\": [\n          457.1176272199122,\n          262.83694867484866\n        ],\n        \"semantic_type\": \"\",\n        \"description\": \"\"\n      }\n    },\n    {\n      \"column\": \"rest_index_norm\",\n      \"properties\": {\n        \"dtype\": \"number\",\n        \"std\": 18.6892157007377,\n        \"min\": 4.430632013912191,\n        \"max\": 100.0,\n        \"num_unique_values\": 977,\n        \"samples\": [\n          39.84968413115941,\n          22.91307260757112\n        ],\n        \"semantic_type\": \"\",\n        \"description\": \"\"\n      }\n    },\n    {\n      \"column\": \"lng\",\n      \"properties\": {\n        \"dtype\": \"number\",\n        \"std\": 0.03857513081360221,\n        \"min\": 4.77595,\n        \"max\": 5.01077,\n        \"num_unique_values\": 916,\n        \"samples\": [\n          4.8762300000000005,\n          4.860469999999999\n        ],\n        \"semantic_type\": \"\",\n        \"description\": \"\"\n      }\n    },\n    {\n      \"column\": \"lat\",\n      \"properties\": {\n        \"dtype\": \"number\",\n        \"std\": 0.01821287522334577,\n        \"min\": 52.29031,\n        \"max\": 52.41538,\n        \"num_unique_values\": 882,\n        \"samples\": [\n          52.36575,\n          52.36534\n        ],\n        \"semantic_type\": \"\",\n        \"description\": \"\"\n      }\n    },\n    {\n      \"column\": \"Indice\",\n      \"properties\": {\n        \"dtype\": \"number\",\n        \"std\": 282,\n        \"min\": 0,\n        \"max\": 976,\n        \"num_unique_values\": 977,\n        \"samples\": [\n          199,\n          542\n        ],\n        \"semantic_type\": \"\",\n        \"description\": \"\"\n      }\n    }\n  ]\n}"
            }
          },
          "metadata": {},
          "execution_count": 29
        }
      ]
    },
    {
      "cell_type": "markdown",
      "source": [
        "Queremos conocer que nombres tienen nuestras variables"
      ],
      "metadata": {
        "id": "cNIqGU8O1c7d"
      }
    },
    {
      "cell_type": "code",
      "source": [
        "columns_names = df.columns\n",
        "print(columns_names)"
      ],
      "metadata": {
        "colab": {
          "base_uri": "https://localhost:8080/"
        },
        "id": "-ClqB8vy1b90",
        "outputId": "6c4b3d5f-2427-4dc3-96b7-6111a7080bd7"
      },
      "execution_count": 30,
      "outputs": [
        {
          "output_type": "stream",
          "name": "stdout",
          "text": [
            "Index(['realSum', 'room_type', 'room_shared', 'room_private',\n",
            "       'person_capacity', 'host_is_superhost', 'multi', 'biz',\n",
            "       'cleanliness_rating', 'guest_satisfaction_overall', 'bedrooms', 'dist',\n",
            "       'metro_dist', 'attr_index', 'attr_index_norm', 'rest_index',\n",
            "       'rest_index_norm', 'lng', 'lat', 'Indice'],\n",
            "      dtype='object')\n"
          ]
        }
      ]
    },
    {
      "cell_type": "markdown",
      "source": [
        "Queremos saber que tipo de dato son las variables que tenemos"
      ],
      "metadata": {
        "id": "9UhVz5GZ1isW"
      }
    },
    {
      "cell_type": "code",
      "source": [
        "df.info()"
      ],
      "metadata": {
        "colab": {
          "base_uri": "https://localhost:8080/"
        },
        "id": "jTNucSDKW4MN",
        "outputId": "b5a05977-3f5f-4245-8d19-53a8e9555144"
      },
      "execution_count": 31,
      "outputs": [
        {
          "output_type": "stream",
          "name": "stdout",
          "text": [
            "<class 'pandas.core.frame.DataFrame'>\n",
            "RangeIndex: 977 entries, 0 to 976\n",
            "Data columns (total 20 columns):\n",
            " #   Column                      Non-Null Count  Dtype  \n",
            "---  ------                      --------------  -----  \n",
            " 0   realSum                     977 non-null    float64\n",
            " 1   room_type                   977 non-null    object \n",
            " 2   room_shared                 977 non-null    bool   \n",
            " 3   room_private                977 non-null    bool   \n",
            " 4   person_capacity             977 non-null    float64\n",
            " 5   host_is_superhost           977 non-null    bool   \n",
            " 6   multi                       977 non-null    int64  \n",
            " 7   biz                         977 non-null    int64  \n",
            " 8   cleanliness_rating          977 non-null    float64\n",
            " 9   guest_satisfaction_overall  977 non-null    float64\n",
            " 10  bedrooms                    977 non-null    int64  \n",
            " 11  dist                        977 non-null    float64\n",
            " 12  metro_dist                  977 non-null    float64\n",
            " 13  attr_index                  977 non-null    float64\n",
            " 14  attr_index_norm             977 non-null    float64\n",
            " 15  rest_index                  977 non-null    float64\n",
            " 16  rest_index_norm             977 non-null    float64\n",
            " 17  lng                         977 non-null    float64\n",
            " 18  lat                         977 non-null    float64\n",
            " 19  Indice                      977 non-null    int64  \n",
            "dtypes: bool(3), float64(12), int64(4), object(1)\n",
            "memory usage: 132.7+ KB\n"
          ]
        }
      ]
    },
    {
      "cell_type": "markdown",
      "source": [
        "Vamos a validar que la base de datos no contenga datos faltantes en ninguna de sus variables"
      ],
      "metadata": {
        "id": "ITbQK8AXnpgs"
      }
    },
    {
      "cell_type": "code",
      "source": [
        "faltantes = df.isna().sum()\n",
        "print(faltantes)"
      ],
      "metadata": {
        "colab": {
          "base_uri": "https://localhost:8080/"
        },
        "id": "5vQU5fzknBrt",
        "outputId": "e7bf5146-8aa8-4d75-9d9e-49328a95b8fa"
      },
      "execution_count": 32,
      "outputs": [
        {
          "output_type": "stream",
          "name": "stdout",
          "text": [
            "realSum                       0\n",
            "room_type                     0\n",
            "room_shared                   0\n",
            "room_private                  0\n",
            "person_capacity               0\n",
            "host_is_superhost             0\n",
            "multi                         0\n",
            "biz                           0\n",
            "cleanliness_rating            0\n",
            "guest_satisfaction_overall    0\n",
            "bedrooms                      0\n",
            "dist                          0\n",
            "metro_dist                    0\n",
            "attr_index                    0\n",
            "attr_index_norm               0\n",
            "rest_index                    0\n",
            "rest_index_norm               0\n",
            "lng                           0\n",
            "lat                           0\n",
            "Indice                        0\n",
            "dtype: int64\n"
          ]
        }
      ]
    },
    {
      "cell_type": "markdown",
      "source": [
        "##Análisis del tipo de variables de la base de datos\n",
        "\n",
        "Podemos identificar que la base cuenta con varias varibles de distinto tipo, entre las cuales están con enteros, decimales. booleanos y objetos, por lo cual hay una buena diversidad para ver algunos datos posibles para extraer acerca de los alojamientos de Ámsterdam para los fines de semana."
      ],
      "metadata": {
        "id": "Z4OwwZiuXJbn"
      }
    },
    {
      "cell_type": "markdown",
      "source": [
        "## 1. Datos a Numpy\n",
        "\n",
        "Vamos a volver a numpy algunas variables númericas"
      ],
      "metadata": {
        "id": "Wu1CepQqeOLa"
      }
    },
    {
      "cell_type": "code",
      "source": [
        "real_sum_np = df['realSum'].to_numpy()\n",
        "person_capacity_np = df['person_capacity'].to_numpy()\n",
        "cleanliness_rating_np = df['cleanliness_rating'].to_numpy()\n",
        "bedrooms_np = df['bedrooms'].to_numpy()"
      ],
      "metadata": {
        "id": "852hUWPjhXMR"
      },
      "execution_count": 33,
      "outputs": []
    },
    {
      "cell_type": "code",
      "source": [
        "print(real_sum_np[0:5])"
      ],
      "metadata": {
        "colab": {
          "base_uri": "https://localhost:8080/"
        },
        "id": "v7cIWH5Lhppk",
        "outputId": "f10060f9-05d2-4c76-9b68-25b3126e6e67"
      },
      "execution_count": 34,
      "outputs": [
        {
          "output_type": "stream",
          "name": "stdout",
          "text": [
            "[ 319.64005343  347.99521946  482.97518337  485.55292574 2771.54172428]\n"
          ]
        }
      ]
    },
    {
      "cell_type": "code",
      "source": [
        "print(person_capacity_np[0:5])"
      ],
      "metadata": {
        "colab": {
          "base_uri": "https://localhost:8080/"
        },
        "id": "RCb6sHrhipI9",
        "outputId": "a56cd6d5-c33c-490f-ed7f-ae2c3f6b44fe"
      },
      "execution_count": 35,
      "outputs": [
        {
          "output_type": "stream",
          "name": "stdout",
          "text": [
            "[2. 2. 4. 2. 4.]\n"
          ]
        }
      ]
    },
    {
      "cell_type": "code",
      "source": [
        "print(cleanliness_rating_np[0:5])"
      ],
      "metadata": {
        "colab": {
          "base_uri": "https://localhost:8080/"
        },
        "id": "SnuLcAbLisGd",
        "outputId": "751c2424-3e5d-4d5a-9a6f-1576287dbbe9"
      },
      "execution_count": 36,
      "outputs": [
        {
          "output_type": "stream",
          "name": "stdout",
          "text": [
            "[ 9.  9.  9. 10. 10.]\n"
          ]
        }
      ]
    },
    {
      "cell_type": "code",
      "source": [
        "print(bedrooms_np[0:5])"
      ],
      "metadata": {
        "colab": {
          "base_uri": "https://localhost:8080/"
        },
        "id": "PkS2osIRjk5c",
        "outputId": "1bbbc1fc-6bc2-4cb7-d16d-307a34f7a47c"
      },
      "execution_count": 37,
      "outputs": [
        {
          "output_type": "stream",
          "name": "stdout",
          "text": [
            "[1 1 2 1 3]\n"
          ]
        }
      ]
    },
    {
      "cell_type": "code",
      "source": [
        "df_variables_num_np = np.array([real_sum_np, person_capacity_np, cleanliness_rating_np, bedrooms_np])\n",
        "print(df_variables_num_np)"
      ],
      "metadata": {
        "colab": {
          "base_uri": "https://localhost:8080/"
        },
        "id": "r0ZHjL8THJLb",
        "outputId": "c3843d4b-ee76-4a72-8f8b-17d38b5f534c"
      },
      "execution_count": 38,
      "outputs": [
        {
          "output_type": "stream",
          "name": "stdout",
          "text": [
            "[[3.19640053e+02 3.47995219e+02 4.82975183e+02 ... 1.81285590e+03\n",
            "  3.99315727e+02 7.28798069e+02]\n",
            " [2.00000000e+00 2.00000000e+00 4.00000000e+00 ... 4.00000000e+00\n",
            "  2.00000000e+00 4.00000000e+00]\n",
            " [9.00000000e+00 9.00000000e+00 9.00000000e+00 ... 8.00000000e+00\n",
            "  9.00000000e+00 1.00000000e+01]\n",
            " [1.00000000e+00 1.00000000e+00 2.00000000e+00 ... 5.00000000e+00\n",
            "  1.00000000e+00 2.00000000e+00]]\n"
          ]
        }
      ]
    },
    {
      "cell_type": "code",
      "source": [
        "np.random.seed(123)\n",
        "aleatorios = np.random.random_integers(1, 977, 10)\n",
        "print(aleatorios)"
      ],
      "metadata": {
        "colab": {
          "base_uri": "https://localhost:8080/"
        },
        "id": "ro2nloq6HytD",
        "outputId": "c9f83e79-2c09-41cf-d763-b79da6e88154"
      },
      "execution_count": 39,
      "outputs": [
        {
          "output_type": "stream",
          "name": "stdout",
          "text": [
            "[511 366 383 323  99 743  18 596 107 124]\n"
          ]
        },
        {
          "output_type": "stream",
          "name": "stderr",
          "text": [
            "<ipython-input-39-633ad0e9f63b>:2: DeprecationWarning: This function is deprecated. Please call randint(1, 977 + 1) instead\n",
            "  aleatorios = np.random.random_integers(1, 977, 10)\n"
          ]
        }
      ]
    },
    {
      "cell_type": "code",
      "source": [
        "filas_seleccionadas = df_variables_num_np[:, aleatorios]\n",
        "print(\"Filas selccionadas mediante a los números aleatorios anteriormente selccionados:\\n\",filas_seleccionadas)"
      ],
      "metadata": {
        "colab": {
          "base_uri": "https://localhost:8080/"
        },
        "id": "eK2RjIqFH0PI",
        "outputId": "0cf131ea-047d-43ce-b980-76dccd59f409"
      },
      "execution_count": 40,
      "outputs": [
        {
          "output_type": "stream",
          "name": "stdout",
          "text": [
            "Filas selccionadas mediante a los números aleatorios anteriormente selccionados:\n",
            " [[441.02828486 765.82382303 308.62606332 498.910318   467.04004874\n",
            "  221.21716308 858.15386779 691.53797483 744.73320367 276.52145385]\n",
            " [  2.           4.           2.           2.           2.\n",
            "    2.           4.           4.           2.           2.        ]\n",
            " [  8.           9.           9.          10.          10.\n",
            "    7.          10.           9.          10.          10.        ]\n",
            " [  0.           3.           1.           1.           1.\n",
            "    1.           3.           2.           0.           1.        ]]\n"
          ]
        }
      ]
    },
    {
      "cell_type": "markdown",
      "source": [
        "Cantidad de alojamientos con precio mayor a 1000 y asimismo alojamientos de 1000 o menos en precio"
      ],
      "metadata": {
        "id": "S8WVb7IelZk4"
      }
    },
    {
      "cell_type": "code",
      "source": [
        "bool_real_sum_np = real_sum_np > 1000\n",
        "count_bool_real_sum_np_true = np.sum(bool_real_sum_np)\n",
        "count_bool_real_sum_np_false = len(bool_real_sum_np) - count_bool_real_sum_np_true\n",
        "print(\"Número de valores mayores a 1000: \", count_bool_real_sum_np_true)\n",
        "print(\"Número de valores menores a 1000: \", count_bool_real_sum_np_false)"
      ],
      "metadata": {
        "colab": {
          "base_uri": "https://localhost:8080/"
        },
        "id": "A9yxM2rfjs60",
        "outputId": "954841b4-66e5-455e-b207-2345375c8bb3"
      },
      "execution_count": 41,
      "outputs": [
        {
          "output_type": "stream",
          "name": "stdout",
          "text": [
            "Número de valores mayores a 1000:  110\n",
            "Número de valores menores a 1000:  867\n"
          ]
        }
      ]
    },
    {
      "cell_type": "markdown",
      "source": [
        "Cantidad de alojamientos con capacidad mayor a 2 personas o menor o igual a 2 personas"
      ],
      "metadata": {
        "id": "SD5UmckfqDwR"
      }
    },
    {
      "cell_type": "code",
      "source": [
        "bool_person_capacity_np = person_capacity_np > 2\n",
        "count_bool_person_capacity_np_true = np.sum(bool_person_capacity_np)\n",
        "count_bool_person_capacity_np_false = len(bool_person_capacity_np) - count_bool_person_capacity_np_true\n",
        "print(\"Número de alojamientos con capacidad mayor a 2 personas : \", count_bool_person_capacity_np_true)\n",
        "print(\"Número de alojamientros con capacidad de 2 o menos personas : \", count_bool_person_capacity_np_false)"
      ],
      "metadata": {
        "colab": {
          "base_uri": "https://localhost:8080/"
        },
        "id": "P0TKGebtmJw3",
        "outputId": "0533391f-6b6d-4f68-a77a-725d76414489"
      },
      "execution_count": 42,
      "outputs": [
        {
          "output_type": "stream",
          "name": "stdout",
          "text": [
            "Número de alojamientos con capacidad mayor a 2 personas :  386\n",
            "Número de alojamientros con capacidad de 2 o menos personas :  591\n"
          ]
        }
      ]
    },
    {
      "cell_type": "markdown",
      "source": [
        "Cantidad de alojamientos con calificación de limpieza mayor a 7 y de menos o igual a 7"
      ],
      "metadata": {
        "id": "irpTN4GE-3eo"
      }
    },
    {
      "cell_type": "code",
      "source": [
        "bool_cleanliness_rating_np = cleanliness_rating_np > 7\n",
        "count_bool_cleanliness_rating_np_true = np.sum(bool_cleanliness_rating_np)\n",
        "count_bool_cleanliness_rating_np_false = len(bool_cleanliness_rating_np) - count_bool_cleanliness_rating_np_true\n",
        "print(\"Número de alojamientos con una calificación de limpieza mayor a 7 : \", count_bool_cleanliness_rating_np_true)\n",
        "print(\"Número de alojamientos con una calificación de limpieza menor a 7 : \", count_bool_cleanliness_rating_np_false)"
      ],
      "metadata": {
        "colab": {
          "base_uri": "https://localhost:8080/"
        },
        "id": "to5JGGOFsDfH",
        "outputId": "3a31c964-83db-47e7-fe18-c2c71d9359b3"
      },
      "execution_count": 43,
      "outputs": [
        {
          "output_type": "stream",
          "name": "stdout",
          "text": [
            "Número de alojamientos con una calificación de limpieza mayor a 7 :  958\n",
            "Número de alojamientos con una calificación de limpieza menor a 7 :  19\n"
          ]
        }
      ]
    },
    {
      "cell_type": "markdown",
      "source": [
        "Cantidad de habitaciones con capacidad de mas de 2  habitaciones y de 2 o menos habitaciones"
      ],
      "metadata": {
        "id": "RQhPjt_W_E3f"
      }
    },
    {
      "cell_type": "code",
      "source": [
        "bool_bedrooms_np = bedrooms_np > 2\n",
        "count_bool_bedrooms_np_true = np.sum(bool_bedrooms_np)\n",
        "count_bool_bedrooms_np_false = len(bool_bedrooms_np) - count_bool_bedrooms_np_true\n",
        "print(\"Número de alojamientos con mas de 2 habitaciones : \", count_bool_bedrooms_np_true)\n",
        "print(\"Número de alojamientos con menos de 2 habitaciones : \", count_bool_bedrooms_np_false)"
      ],
      "metadata": {
        "colab": {
          "base_uri": "https://localhost:8080/"
        },
        "id": "aYctB5fX-fly",
        "outputId": "a1e4f38a-2569-4303-c0da-a9d3f4c6067a"
      },
      "execution_count": 44,
      "outputs": [
        {
          "output_type": "stream",
          "name": "stdout",
          "text": [
            "Número de alojamientos con mas de 2 habitaciones :  68\n",
            "Número de alojamientos con menos de 2 habitaciones :  909\n"
          ]
        }
      ]
    },
    {
      "cell_type": "markdown",
      "source": [
        "##2. Variables categoricas en Numpy\n",
        "Se evaluan las categorias que hay en las variables categoricas de la base a través de numpy"
      ],
      "metadata": {
        "id": "UYZw9c_oAZYj"
      }
    },
    {
      "cell_type": "code",
      "source": [
        "room_type_np = df['room_type'].to_numpy()\n",
        "room_shared_np = df['room_shared'].to_numpy()\n",
        "romm_private_np = df['room_private'].to_numpy()\n",
        "host_is_superhost_np = df['host_is_superhost'].to_numpy()"
      ],
      "metadata": {
        "id": "BZ4yz_K9_7T4"
      },
      "execution_count": 45,
      "outputs": []
    },
    {
      "cell_type": "code",
      "source": [
        "print(\"Categorias de alojamientos : \",np.unique(room_type_np))"
      ],
      "metadata": {
        "colab": {
          "base_uri": "https://localhost:8080/"
        },
        "id": "FWoPW7bZAkLr",
        "outputId": "0cceed31-853b-4627-de2b-72bd3362e25b"
      },
      "execution_count": 46,
      "outputs": [
        {
          "output_type": "stream",
          "name": "stdout",
          "text": [
            "Categorias de alojamientos :  ['Entire home/apt' 'Private room' 'Shared room']\n"
          ]
        }
      ]
    },
    {
      "cell_type": "code",
      "source": [
        "print(\"Habitación compartida verdadero o falso : \",np.unique(room_shared_np))"
      ],
      "metadata": {
        "colab": {
          "base_uri": "https://localhost:8080/"
        },
        "id": "6gUvVhFyBe9-",
        "outputId": "dce0f1a4-52be-4994-e423-cf96a9b7e074"
      },
      "execution_count": 47,
      "outputs": [
        {
          "output_type": "stream",
          "name": "stdout",
          "text": [
            "Habitación compartida verdadero o falso :  [False  True]\n"
          ]
        }
      ]
    },
    {
      "cell_type": "code",
      "source": [
        "print(\"Habitación privada verdadero o falso : \",np.unique(room_shared_np))"
      ],
      "metadata": {
        "colab": {
          "base_uri": "https://localhost:8080/"
        },
        "id": "TT3Ety3pB1AL",
        "outputId": "164a6055-8808-44d2-99c8-f5f5096cd41e"
      },
      "execution_count": 48,
      "outputs": [
        {
          "output_type": "stream",
          "name": "stdout",
          "text": [
            "Habitación privada verdadero o falso :  [False  True]\n"
          ]
        }
      ]
    },
    {
      "cell_type": "code",
      "source": [
        "print(\"Habitación privada verdadero o falso : \",np.unique(room_shared_np))"
      ],
      "metadata": {
        "colab": {
          "base_uri": "https://localhost:8080/"
        },
        "id": "XJ1LrnDfCF7J",
        "outputId": "b32ecc57-f1ed-4d9c-b6b0-289fe3209e38"
      },
      "execution_count": 49,
      "outputs": [
        {
          "output_type": "stream",
          "name": "stdout",
          "text": [
            "Habitación privada verdadero o falso :  [False  True]\n"
          ]
        }
      ]
    },
    {
      "cell_type": "code",
      "source": [
        "print(\"El anfitrión es superhost según Airbnb : \",np.unique(host_is_superhost_np))"
      ],
      "metadata": {
        "colab": {
          "base_uri": "https://localhost:8080/"
        },
        "id": "flVtdZopCXOt",
        "outputId": "096c2d79-b0fc-49f0-9926-70651965412a"
      },
      "execution_count": 50,
      "outputs": [
        {
          "output_type": "stream",
          "name": "stdout",
          "text": [
            "El anfitrión es superhost según Airbnb :  [False  True]\n"
          ]
        }
      ]
    },
    {
      "cell_type": "markdown",
      "source": [
        "##3. Visualización de los datos"
      ],
      "metadata": {
        "id": "VDFj6CPxJK-9"
      }
    },
    {
      "cell_type": "markdown",
      "source": [
        "###Distribución de los datos de la variable de precio (Real_sum)"
      ],
      "metadata": {
        "id": "Nh0sSY4kF9m4"
      }
    },
    {
      "cell_type": "code",
      "source": [
        "plt.hist(real_sum_np, color = 'green', bins = 20, edgecolor = 'blue', alpha = 0.6)\n",
        "plt.title('Ditribución de los precios de alojamiento')\n",
        "plt.xlabel('Precios')\n",
        "plt.ylabel('Frecuencia')\n",
        "plt.show()"
      ],
      "metadata": {
        "colab": {
          "base_uri": "https://localhost:8080/",
          "height": 472
        },
        "id": "BP6z_AP_JOIe",
        "outputId": "28c38f41-4168-4793-9262-26fa0e0f12d8"
      },
      "execution_count": 53,
      "outputs": [
        {
          "output_type": "display_data",
          "data": {
            "text/plain": [
              "<Figure size 640x480 with 1 Axes>"
            ],
            "image/png": "[encoded data removed]"
          },
          "metadata": {}
        }
      ]
    },
    {
      "cell_type": "markdown",
      "source": [
        "Podemos identificar que los precios mayormente son mas frecuentes para precios bajos, adiconalmentea medida que va aumentando se puede identificar que baja la frecuencia entre mas alto es el precio."
      ],
      "metadata": {
        "id": "_L0kPDAwFU2D"
      }
    },
    {
      "cell_type": "code",
      "source": [
        "plt.hist(person_capacity_np, color = 'red', bins = 15, edgecolor = 'orange', alpha = 0.9)\n",
        "plt.title('Ditribución según la cantidad de alojamiento personas')\n",
        "plt.xlabel('Número de personas soportado')\n",
        "plt.ylabel('Frecuencia')\n",
        "plt.show()"
      ],
      "metadata": {
        "colab": {
          "base_uri": "https://localhost:8080/",
          "height": 473
        },
        "id": "RpPAXu_rEyj_",
        "outputId": "3b96b2f9-8609-4736-dec1-f021d3865bae"
      },
      "execution_count": 54,
      "outputs": [
        {
          "output_type": "display_data",
          "data": {
            "text/plain": [
              "<Figure size 640x480 with 1 Axes>"
            ],
            "image/png": "[encoded data removed]"
          },
          "metadata": {}
        }
      ]
    },
    {
      "cell_type": "markdown",
      "source": [
        "Podemos ver que mayormente los alojamientos son para dos o 4 personas"
      ],
      "metadata": {
        "id": "Ram47rq_G6Zp"
      }
    },
    {
      "cell_type": "code",
      "source": [
        "plt.hist(cleanliness_rating_np, color = 'yellow', bins = 15, edgecolor = 'green', alpha = 0.9)\n",
        "plt.title('Ditribución de la puntuación de limpieza del alojamiento')\n",
        "plt.xlabel('Puntuación')\n",
        "plt.ylabel('Frecuencia')\n",
        "plt.show()\n"
      ],
      "metadata": {
        "colab": {
          "base_uri": "https://localhost:8080/",
          "height": 472
        },
        "id": "n6HLPj1gLHQg",
        "outputId": "a0c95e0a-604d-4f28-9060-26c973cbe9bd"
      },
      "execution_count": 56,
      "outputs": [
        {
          "output_type": "display_data",
          "data": {
            "text/plain": [
              "<Figure size 640x480 with 1 Axes>"
            ],
            "image/png": "[encoded data removed]"
          },
          "metadata": {}
        }
      ]
    },
    {
      "cell_type": "markdown",
      "source": [
        "Se puede apreciar que para la mayoría de alojamiento la calificación en limpieza es alta, agrupandose mayormente entre 9 y 10"
      ],
      "metadata": {
        "id": "T0weAiMoMGV1"
      }
    },
    {
      "cell_type": "code",
      "source": [
        "plt.hist(bedrooms_np, color = 'pink', bins = 15, edgecolor = 'yellow', alpha = 0.9)\n",
        "plt.title('Ditribución de la cantidad de habitaciones por cada alojamiento')\n",
        "plt.xlabel('Cantidad de habitaciones')\n",
        "plt.ylabel('Frecuencia')\n",
        "plt.show()"
      ],
      "metadata": {
        "colab": {
          "base_uri": "https://localhost:8080/",
          "height": 472
        },
        "id": "_U8dlEhmTCUN",
        "outputId": "8a0f44b5-0090-4238-a71d-18417b4ddf2c"
      },
      "execution_count": 80,
      "outputs": [
        {
          "output_type": "display_data",
          "data": {
            "text/plain": [
              "<Figure size 640x480 with 1 Axes>"
            ],
            "image/png": "[encoded data removed]"
          },
          "metadata": {}
        }
      ]
    },
    {
      "cell_type": "code",
      "source": [
        "gs = gridspec.GridSpec(1,2,width_ratios=[1,1])\n",
        "fig = plt.figure(figsize =(10,8))\n",
        "\n",
        "### Primer grafico\n",
        "ax1 = fig.add_subplot(gs[0,0])\n",
        "ax1.quantity_by_type = df.groupby('room_type')['realSum'].count().sort_values(ascending=False)\n",
        "ax1 = fig.add_subplot(gs[0,0])\n",
        "quantity_by_type.plot(kind='bar', ax=ax1, color='skyblue', edgecolor='black')\n",
        "ax1.set_title('Cantidad de tipos de alojamiento')\n",
        "ax1.set_xlabel('Tipos de alojamiento')\n",
        "ax1.set_ylabel('Total')\n",
        "\n",
        "### Segundo grafico\n",
        "ax2 = fig.add_subplot(gs[0, 1])\n",
        "df.boxplot(column='realSum', by='room_type', ax=ax2, grid=False)\n",
        "ax2.set_title('Precio por tipo de alojamiento')\n",
        "ax2.set_xlabel('Tipos de alojamiento')\n",
        "ax2.set_ylabel('Precio')\n",
        "\n",
        "\n",
        "\n",
        "plt.suptitle('')\n",
        "plt.tight_layout()\n",
        "plt.show()"
      ],
      "metadata": {
        "colab": {
          "base_uri": "https://localhost:8080/",
          "height": 792
        },
        "id": "WEhRF1m5HM5t",
        "outputId": "1d2e67ec-2bce-45fd-d976-4a3d85106a31"
      },
      "execution_count": 85,
      "outputs": [
        {
          "output_type": "display_data",
          "data": {
            "text/plain": [
              "<Figure size 1000x800 with 3 Axes>"
            ],
            "image/png": "[encoded data removed]"
          },
          "metadata": {}
        }
      ]
    },
    {
      "cell_type": "markdown",
      "source": [
        "Por medio de estos último graficos podemos ver, que en mayor cantidad los alojamientos enteros son mas, seguidos por los alojamientos privados y posteriormente los compartidos, adiconalmente a la derecha encontramos un diagrama de cajas que nos permite ver que los precios, son también mas altos para los alojamientos enteros, seguidos de los alojamientos privados y finalmente los alojamientos compartidos, seguido de ello, se puede apreciar que tanto el alojamiento entero, como el alojamiento privado presentan valores atipicos, que reflejan que de estas categorias hay valores mucho mas superiores al promedio y al cuarto quartil."
      ],
      "metadata": {
        "id": "W3sB-93uUJVn"
      }
    }
  ]
}